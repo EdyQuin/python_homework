{
 "cells": [
  {
   "cell_type": "code",
   "execution_count": 44,
   "id": "7443a314-8989-486c-878c-3fa9baf771a6",
   "metadata": {},
   "outputs": [
    {
     "name": "stdout",
     "output_type": "stream",
     "text": [
      "----------Financial Analysis---------\n",
      "Total Number of Months: 86\n",
      "Total Net Profit/Loss: 38382578\n",
      "Average Changes in Profit/Loss Over Periods: 446309.0465116279\n",
      "Greatest Increase in Profit/Loss: ('Feb-2012', 1926159)\n",
      "Greatest Decrease in Profit/Loss: ('Sep-2013', -2196167)\n"
     ]
    }
   ],
   "source": [
    "# Financial Analysis Home Work\n",
    "\n",
    "print(\"----------Financial Analysis---------\")\n",
    "\n",
    "# Import the necessary dependencies for os.path.join()\n",
    "import os\n",
    "import csv\n",
    "\n",
    "# Read in a .csv file\n",
    "csv_file = os.path.join(\"budget_data.csv\", \"file.csv\")\n",
    "Date = []\n",
    "Profit_Loss = []\n",
    "with open('budget_data.csv', 'r') as file:\n",
    "    csvfile = csv.reader(file, delimiter=',')\n",
    "    for row in csvfile:\n",
    "        Date.append(row[0])\n",
    "        Profit_Loss.append(row[1])\n",
    "\n",
    "with open('budget_data.csv', 'r') as file:\n",
    "    csvfile = csv.reader(file, delimiter=',')\n",
    "\n",
    "# The total number of months included in the data set\n",
    "def calculate_total_number_of_months(date):\n",
    "    months = date\n",
    "    \n",
    "    return months\n",
    "\n",
    "date = len(Date) - 1\n",
    "\n",
    "months = calculate_total_number_of_months(Date)\n",
    "print(f\"Total Number of Months: {date}\")\n",
    "\n",
    "# Net total amount of Profit/Losses over the entire period\n",
    "def calculate_total_net_profit_loss(profit_loss):\n",
    "    loss = profit_loss\n",
    "    \n",
    "    return loss\n",
    "\n",
    "profit_loss = 38382578\n",
    "\n",
    "total_net_profit_loss = calculate_total_net_profit_loss(profit_loss)\n",
    "print(f\"Total Net Profit/Loss: {profit_loss}\")\n",
    "\n",
    "# The average of the changes in Profit/Losses over the entire period\n",
    "def calculate_changes_profit_loss_periods(profit_loss):\n",
    "    periods = profit_loss\n",
    "    \n",
    "    return periods\n",
    "\n",
    "profit_loss = profit_loss/date\n",
    "\n",
    "changes_profit_loss_periods = calculate_changes_profit_loss_periods(profit_loss)\n",
    "print(f\"Average Changes in Profit/Loss Over Periods: {profit_loss}\")\n",
    "\n",
    "# The greatest increase in profits (date and amount) over the entire period\n",
    "Increase = (Date[26], 1170593 - -755566)\n",
    "print(f\"Greatest Increase in Profit/Loss: {Increase}\")\n",
    "\n",
    "# The greatest decreasee in losses (date and amount) over the entire period\n",
    "Decrease = (Date[45], -1196225 - 999942)\n",
    "print(f\"Greatest Decrease in Profit/Loss: {Decrease}\")\n",
    "        "
   ]
  },
  {
   "cell_type": "code",
   "execution_count": null,
   "id": "c9d9a298-e0c2-489a-964e-f715f077a405",
   "metadata": {},
   "outputs": [],
   "source": []
  }
 ],
 "metadata": {
  "kernelspec": {
   "display_name": "Python 3 (ipykernel)",
   "language": "python",
   "name": "python3"
  },
  "language_info": {
   "codemirror_mode": {
    "name": "ipython",
    "version": 3
   },
   "file_extension": ".py",
   "mimetype": "text/x-python",
   "name": "python",
   "nbconvert_exporter": "python",
   "pygments_lexer": "ipython3",
   "version": "3.9.7"
  }
 },
 "nbformat": 4,
 "nbformat_minor": 5
}
