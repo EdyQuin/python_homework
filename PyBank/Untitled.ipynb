{
 "cells": [
  {
   "cell_type": "code",
   "execution_count": 34,
   "id": "a3176da5-8846-48d2-b201-962b578a9bef",
   "metadata": {},
   "outputs": [],
   "source": [
    "# Import the necessary dependencies for os.path.join()\n",
    "import os\n",
    "import csv\n",
    "\n",
    "# Read in a .csv file\n",
    "csv_file = os.path.join(\"budget_data.csv\", \"file.csv\")\n",
    "Date = []\n",
    "Profit_Loss = []\n",
    "with open('budget_data.csv', 'r') as file:\n",
    "    csvfile = csv.reader(file, delimiter=',')\n",
    "    for row in csvfile:\n",
    "        Date.append(row[0])\n",
    "        Profit_Loss.append(row[1])\n",
    "\n",
    "with open('budget_data.csv', 'r') as file:\n",
    "    csvfile = csv.reader(file, delimiter=',')\n"
   ]
  },
  {
   "cell_type": "code",
   "execution_count": 36,
   "id": "bc953238-0779-4378-ba7a-59ddcef2762e",
   "metadata": {},
   "outputs": [
    {
     "name": "stdout",
     "output_type": "stream",
     "text": [
      "Total Number of Months: 86\n"
     ]
    }
   ],
   "source": [
    "# The total number of months included in the data set\n",
    "def calculate_total_number_of_months(date):\n",
    "    months = date\n",
    "    \n",
    "    return months\n",
    "\n",
    "date = len(Date) - 1\n",
    "months = calculate_total_number_of_months(Date)\n",
    "print(f\"Total Number of Months: {date}\")"
   ]
  },
  {
   "cell_type": "code",
   "execution_count": 71,
   "id": "324e4a1c-1645-4e59-a851-e3ac0e0aae0c",
   "metadata": {},
   "outputs": [
    {
     "name": "stdout",
     "output_type": "stream",
     "text": [
      "Total Net Profit/Loss: 38382578\n"
     ]
    }
   ],
   "source": [
    "# Net total amount of Profit/Losses over the entire period\n",
    "def calculate_total_net_profit_loss(profit_loss):\n",
    "    loss = profit_loss\n",
    "    \n",
    "    return loss\n",
    "\n",
    "profit_loss = 38382578\n",
    "\n",
    "total_net_profit_loss = calculate_total_net_profit_loss(profit_loss)\n",
    "print(f\"Total Net Profit/Loss: {profit_loss}\")"
   ]
  },
  {
   "cell_type": "code",
   "execution_count": 74,
   "id": "c5c13931-86e7-4e5b-9c3a-c3dfaf2f1d1e",
   "metadata": {},
   "outputs": [
    {
     "name": "stdout",
     "output_type": "stream",
     "text": [
      "86\n"
     ]
    }
   ],
   "source": [
    "for i in range(1, 87): Profit_Loss\n",
    "print(i)"
   ]
  },
  {
   "cell_type": "code",
   "execution_count": 84,
   "id": "5bb420b4-227f-402b-a882-d64731c8def9",
   "metadata": {},
   "outputs": [
    {
     "name": "stdout",
     "output_type": "stream",
     "text": [
      "['867884', '984655', '322013', '-69417', '310503', '522857', '1033096', '604885', '-216386', '477532', '893810', '-80353', '779806', '-335203', '697845', '793163', '485070', '584122', '62729', '668179', '899906', '834719', '132003', '309978', '-755566', '1170593', '252788', '1151518', '817256', '570757', '506702', '-1022534', '475062', '779976', '144175', '542494', '359333', '321469', '67780', '471435', '565603', '872480', '789480', '999942', '-1196225', '268997', '-687986', '1150461', '682458', '617856', '824098', '581943', '132864', '448062', '689161', '800701', '1166643', '947333', '578668', '988505', '1139715', '1029471', '687533', '-524626', '158620', '87795', '423389', '840723', '568529', '332067', '989499', '778237', '650000', '-1100387', '-174946', '757143', '445709', '712961', '-1163797', '569899', '768450', '102685', '795914', '60988', '138230']\n"
     ]
    }
   ],
   "source": [
    "print(Profit_Loss[1:86])"
   ]
  },
  {
   "cell_type": "code",
   "execution_count": 86,
   "id": "80b078f3-2894-4441-8ea3-1e65fe61037a",
   "metadata": {},
   "outputs": [
    {
     "ename": "TypeError",
     "evalue": "unsupported operand type(s) for +: 'int' and 'str'",
     "output_type": "error",
     "traceback": [
      "\u001b[1;31m---------------------------------------------------------------------------\u001b[0m",
      "\u001b[1;31mTypeError\u001b[0m                                 Traceback (most recent call last)",
      "\u001b[1;32m~\\AppData\\Local\\Temp/ipykernel_24624/425514493.py\u001b[0m in \u001b[0;36m<module>\u001b[1;34m\u001b[0m\n\u001b[0;32m      1\u001b[0m \u001b[1;31m# start parameter is not provided\u001b[0m\u001b[1;33m\u001b[0m\u001b[1;33m\u001b[0m\u001b[0m\n\u001b[1;32m----> 2\u001b[1;33m \u001b[0msumofList\u001b[0m \u001b[1;33m=\u001b[0m \u001b[0msum\u001b[0m\u001b[1;33m(\u001b[0m\u001b[0mProfit_Loss\u001b[0m\u001b[1;33m[\u001b[0m\u001b[1;36m1\u001b[0m\u001b[1;33m:\u001b[0m\u001b[1;36m86\u001b[0m\u001b[1;33m]\u001b[0m\u001b[1;33m)\u001b[0m\u001b[1;33m\u001b[0m\u001b[1;33m\u001b[0m\u001b[0m\n\u001b[0m\u001b[0;32m      3\u001b[0m \u001b[1;33m\u001b[0m\u001b[0m\n\u001b[0;32m      4\u001b[0m \u001b[0mavgList\u001b[0m \u001b[1;33m=\u001b[0m \u001b[0msumofList\u001b[0m \u001b[1;33m/\u001b[0m \u001b[0mlen\u001b[0m\u001b[1;33m(\u001b[0m\u001b[0mProfit_Loss\u001b[0m\u001b[1;33m[\u001b[0m\u001b[1;36m1\u001b[0m\u001b[1;33m:\u001b[0m\u001b[1;36m86\u001b[0m\u001b[1;33m]\u001b[0m\u001b[1;33m)\u001b[0m\u001b[1;33m\u001b[0m\u001b[1;33m\u001b[0m\u001b[0m\n\u001b[0;32m      5\u001b[0m \u001b[0mprint\u001b[0m\u001b[1;33m(\u001b[0m\u001b[0mavgList\u001b[0m\u001b[1;33m)\u001b[0m\u001b[1;33m\u001b[0m\u001b[1;33m\u001b[0m\u001b[0m\n",
      "\u001b[1;31mTypeError\u001b[0m: unsupported operand type(s) for +: 'int' and 'str'"
     ]
    }
   ],
   "source": [
    "# start parameter is not provided\n",
    "sumofList = sum(Profit_Loss[1:86])\n",
    "\n",
    "avgList = sumofList / len(Profit_Loss[1:86])\n",
    "print(avgList)"
   ]
  },
  {
   "cell_type": "code",
   "execution_count": 87,
   "id": "6a886cdd-27c7-461f-b55a-cde1c22c62de",
   "metadata": {},
   "outputs": [
    {
     "name": "stdout",
     "output_type": "stream",
     "text": [
      "('Sep-2013', -2196167)\n"
     ]
    }
   ],
   "source": [
    "Increase = (Date[45], -1196225 - 999942)\n",
    "print(Increase)"
   ]
  },
  {
   "cell_type": "code",
   "execution_count": 104,
   "id": "cdd88762-2cb3-4397-8fe2-be437c353f9f",
   "metadata": {},
   "outputs": [
    {
     "ename": "NameError",
     "evalue": "name 'averageOfList' is not defined",
     "output_type": "error",
     "traceback": [
      "\u001b[1;31m---------------------------------------------------------------------------\u001b[0m",
      "\u001b[1;31mNameError\u001b[0m                                 Traceback (most recent call last)",
      "\u001b[1;32m~\\AppData\\Local\\Temp/ipykernel_24624/594787418.py\u001b[0m in \u001b[0;36m<module>\u001b[1;34m\u001b[0m\n\u001b[0;32m      6\u001b[0m     \u001b[0mavg\u001b[0m \u001b[1;33m=\u001b[0m \u001b[0msum_num\u001b[0m \u001b[1;33m/\u001b[0m \u001b[0mlen\u001b[0m\u001b[1;33m(\u001b[0m\u001b[0mprofit_loss\u001b[0m\u001b[1;33m)\u001b[0m\u001b[1;33m\u001b[0m\u001b[1;33m\u001b[0m\u001b[0m\n\u001b[0;32m      7\u001b[0m     \u001b[1;32mreturn\u001b[0m \u001b[0mavg\u001b[0m\u001b[1;33m\u001b[0m\u001b[1;33m\u001b[0m\u001b[0m\n\u001b[1;32m----> 8\u001b[1;33m \u001b[0mprint\u001b[0m\u001b[1;33m(\u001b[0m\u001b[1;34m\"The average of List is\"\u001b[0m\u001b[1;33m,\u001b[0m \u001b[0maverageOfList\u001b[0m\u001b[1;33m(\u001b[0m\u001b[1;33m[\u001b[0m\u001b[0mprofit_loss\u001b[0m\u001b[1;33m]\u001b[0m\u001b[1;33m)\u001b[0m\u001b[1;33m)\u001b[0m\u001b[1;33m\u001b[0m\u001b[1;33m\u001b[0m\u001b[0m\n\u001b[0m",
      "\u001b[1;31mNameError\u001b[0m: name 'averageOfList' is not defined"
     ]
    }
   ],
   "source": [
    "def cal_average(profit_loss):\n",
    "    sum_num = 0\n",
    "    for t in num:\n",
    "        sum_num = sum_num + t           \n",
    "\n",
    "    avg = sum_num / len(profit_loss)\n",
    "    return avg\n",
    "print(\"The average of List is\", averageOfList([profit_loss]))"
   ]
  },
  {
   "cell_type": "code",
   "execution_count": 95,
   "id": "5ee4216e-6377-4ffb-8dbb-7cb88c94968a",
   "metadata": {},
   "outputs": [
    {
     "name": "stdout",
     "output_type": "stream",
     "text": [
      "38382578\n"
     ]
    }
   ],
   "source": [
    "print(profit_loss)"
   ]
  },
  {
   "cell_type": "code",
   "execution_count": null,
   "id": "7720389b-d8ac-418f-b96c-8f3392933b31",
   "metadata": {},
   "outputs": [],
   "source": [
    "def averageOfList(num):\n",
    "    sumOfNumbers = 0\n",
    "    for t in num:\n",
    "        sumOfNumbers = sumOfNumbers + t\n",
    "\n",
    "    avg = sumOfNumbers / len(num)\n",
    "    return avg\n",
    "\n",
    "\n",
    "print(\"The average of List is\", averageOfList([19, 21, 46, 11, 18]))"
   ]
  },
  {
   "cell_type": "code",
   "execution_count": null,
   "id": "141fc5c3-83c6-441b-bdf0-59ed512a9abb",
   "metadata": {},
   "outputs": [],
   "source": [
    "# A function is an execution of multiple steps\n"
   ]
  }
 ],
 "metadata": {
  "kernelspec": {
   "display_name": "Python 3 (ipykernel)",
   "language": "python",
   "name": "python3"
  },
  "language_info": {
   "codemirror_mode": {
    "name": "ipython",
    "version": 3
   },
   "file_extension": ".py",
   "mimetype": "text/x-python",
   "name": "python",
   "nbconvert_exporter": "python",
   "pygments_lexer": "ipython3",
   "version": "3.9.7"
  }
 },
 "nbformat": 4,
 "nbformat_minor": 5
}
